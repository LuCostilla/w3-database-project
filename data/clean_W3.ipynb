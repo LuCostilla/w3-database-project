{
 "cells": [
  {
   "cell_type": "code",
   "execution_count": 1,
   "id": "e33f1149",
   "metadata": {},
   "outputs": [],
   "source": [
    "import pandas as pd\n",
    "import numpy as np"
   ]
  },
  {
   "cell_type": "code",
   "execution_count": null,
   "id": "9511b640",
   "metadata": {},
   "outputs": [],
   "source": [
    "#ACTORES"
   ]
  },
  {
   "cell_type": "code",
   "execution_count": 5,
   "id": "6c5866de",
   "metadata": {},
   "outputs": [],
   "source": [
    "data_original_actores=pd.read_csv(\"/Users/jeffworker/Documents/GitHub/Bootcamp/Ejercicios/w3-database-project/data/actor.csv\",sep=',', encoding='latin-1')\n"
   ]
  },
  {
   "cell_type": "code",
   "execution_count": 79,
   "id": "91824260",
   "metadata": {},
   "outputs": [],
   "source": [
    "#check repetitive values in actores --> drop column\n",
    "\n",
    "\n",
    "nan_cols_actores = data_original_actores.isna().sum()\n",
    "data_original_actores.drop(['last_update'], axis=1, inplace= True)\n"
   ]
  },
  {
   "cell_type": "code",
   "execution_count": null,
   "id": "82c18e76",
   "metadata": {},
   "outputs": [],
   "source": [
    "#CATEGORY"
   ]
  },
  {
   "cell_type": "code",
   "execution_count": 6,
   "id": "9b2fdef3",
   "metadata": {},
   "outputs": [],
   "source": [
    "data_original_category=pd.read_csv(\"/Users/jeffworker/Documents/GitHub/Bootcamp/Ejercicios/w3-database-project/data/category.csv\",sep=',', encoding='latin-1')\n"
   ]
  },
  {
   "cell_type": "code",
   "execution_count": 80,
   "id": "910dec74",
   "metadata": {},
   "outputs": [],
   "source": [
    "#check repetitive values in category --> drop column\n",
    "\n",
    "\n",
    "nan_cols_category = data_original_category.isna().sum()\n",
    "data_original_category.drop(['last_update'], axis=1, inplace= True)\n"
   ]
  },
  {
   "cell_type": "code",
   "execution_count": 108,
   "id": "790c3c89",
   "metadata": {},
   "outputs": [],
   "source": [
    "#change column name from \"name\" to \"genere\"\n",
    "data_original_category.rename(columns = {'genere':'genre'}, inplace = True)"
   ]
  },
  {
   "cell_type": "code",
   "execution_count": null,
   "id": "d08287b9",
   "metadata": {},
   "outputs": [],
   "source": []
  },
  {
   "cell_type": "code",
   "execution_count": null,
   "id": "4880a468",
   "metadata": {},
   "outputs": [],
   "source": [
    "#FILM"
   ]
  },
  {
   "cell_type": "code",
   "execution_count": 42,
   "id": "39d00f92",
   "metadata": {},
   "outputs": [],
   "source": [
    "data_original_film=pd.read_csv(\"/Users/jeffworker/Documents/GitHub/Bootcamp/Ejercicios/w3-database-project/data/film.csv\",sep=',', encoding='latin-1')\n"
   ]
  },
  {
   "cell_type": "code",
   "execution_count": 67,
   "id": "16f1d2c5",
   "metadata": {},
   "outputs": [],
   "source": [
    "#check repetitive values in original_language_id  --> drop column\n",
    "\n",
    "\n",
    "nan_cols_film = data_original_film.isna().sum()\n",
    "data_original_film.drop(['original_language_id'], axis=1, inplace= True)\n",
    "\n"
   ]
  },
  {
   "cell_type": "code",
   "execution_count": 68,
   "id": "e5f1c7eb",
   "metadata": {},
   "outputs": [],
   "source": [
    "#check repetitive values release_year --> drop column\n",
    "\n",
    "check_dup = data_original_film['release_year'].value_counts() \n",
    "data_original_film.drop(['release_year'], axis=1, inplace= True)\n"
   ]
  },
  {
   "cell_type": "code",
   "execution_count": 84,
   "id": "68788b3a",
   "metadata": {},
   "outputs": [],
   "source": [
    "#check repetitive values last_update --> drop column\n",
    "check_las_update = data_original_film['last_update'].value_counts() \n",
    "data_original_film.drop(['last_update'], axis=1, inplace= True)"
   ]
  },
  {
   "cell_type": "code",
   "execution_count": null,
   "id": "86838cdf",
   "metadata": {},
   "outputs": [],
   "source": [
    "#INVENTORY"
   ]
  },
  {
   "cell_type": "code",
   "execution_count": 13,
   "id": "a51ef6af",
   "metadata": {},
   "outputs": [],
   "source": [
    "data_original_inventory=pd.read_csv(\"/Users/jeffworker/Documents/GitHub/Bootcamp/Ejercicios/w3-database-project/data/inventory.csv\",sep=',', encoding='latin-1')\n"
   ]
  },
  {
   "cell_type": "code",
   "execution_count": 85,
   "id": "2fb8736b",
   "metadata": {},
   "outputs": [],
   "source": [
    "#check repetitive values last_update --> drop column\n",
    "check_dup_inventory = data_original_inventory['last_update'].value_counts() \n",
    "data_original_inventory.drop(['last_update'], axis=1, inplace= True)"
   ]
  },
  {
   "cell_type": "code",
   "execution_count": 126,
   "id": "5d625b89",
   "metadata": {},
   "outputs": [
    {
     "data": {
      "text/html": [
       "<div>\n",
       "<style scoped>\n",
       "    .dataframe tbody tr th:only-of-type {\n",
       "        vertical-align: middle;\n",
       "    }\n",
       "\n",
       "    .dataframe tbody tr th {\n",
       "        vertical-align: top;\n",
       "    }\n",
       "\n",
       "    .dataframe thead th {\n",
       "        text-align: right;\n",
       "    }\n",
       "</style>\n",
       "<table border=\"1\" class=\"dataframe\">\n",
       "  <thead>\n",
       "    <tr style=\"text-align: right;\">\n",
       "      <th></th>\n",
       "      <th>inventory_id</th>\n",
       "      <th>film_id</th>\n",
       "      <th>store_id</th>\n",
       "    </tr>\n",
       "  </thead>\n",
       "  <tbody>\n",
       "    <tr>\n",
       "      <th>0</th>\n",
       "      <td>1</td>\n",
       "      <td>1</td>\n",
       "      <td>1</td>\n",
       "    </tr>\n",
       "    <tr>\n",
       "      <th>1</th>\n",
       "      <td>2</td>\n",
       "      <td>1</td>\n",
       "      <td>1</td>\n",
       "    </tr>\n",
       "    <tr>\n",
       "      <th>2</th>\n",
       "      <td>3</td>\n",
       "      <td>1</td>\n",
       "      <td>1</td>\n",
       "    </tr>\n",
       "    <tr>\n",
       "      <th>3</th>\n",
       "      <td>4</td>\n",
       "      <td>1</td>\n",
       "      <td>1</td>\n",
       "    </tr>\n",
       "    <tr>\n",
       "      <th>4</th>\n",
       "      <td>5</td>\n",
       "      <td>1</td>\n",
       "      <td>2</td>\n",
       "    </tr>\n",
       "  </tbody>\n",
       "</table>\n",
       "</div>"
      ],
      "text/plain": [
       "   inventory_id  film_id  store_id\n",
       "0             1        1         1\n",
       "1             2        1         1\n",
       "2             3        1         1\n",
       "3             4        1         1\n",
       "4             5        1         2"
      ]
     },
     "execution_count": 126,
     "metadata": {},
     "output_type": "execute_result"
    }
   ],
   "source": [
    "data_original_inventory.head()"
   ]
  },
  {
   "cell_type": "code",
   "execution_count": null,
   "id": "b70b1106",
   "metadata": {},
   "outputs": [],
   "source": [
    "#LANGUAGE"
   ]
  },
  {
   "cell_type": "code",
   "execution_count": 15,
   "id": "24a27354",
   "metadata": {},
   "outputs": [],
   "source": [
    "data_original_language=pd.read_csv(\"/Users/jeffworker/Documents/GitHub/Bootcamp/Ejercicios/w3-database-project/data/language.csv\",sep=',', encoding='latin-1')\n"
   ]
  },
  {
   "cell_type": "code",
   "execution_count": 72,
   "id": "c0d3eff7",
   "metadata": {},
   "outputs": [],
   "source": [
    "#change column name from \"name\" to \"language\"\n",
    "data_original_language.rename(columns = {'name':'language'}, inplace = True)\n"
   ]
  },
  {
   "cell_type": "code",
   "execution_count": 87,
   "id": "d0814c88",
   "metadata": {},
   "outputs": [],
   "source": [
    "#check repetitive values last_update --> drop column\n",
    "check_dup_language = data_original_language['last_update'].value_counts() \n",
    "data_original_language.drop(['last_update'], axis=1, inplace= True)"
   ]
  },
  {
   "cell_type": "code",
   "execution_count": null,
   "id": "52806eea",
   "metadata": {},
   "outputs": [],
   "source": []
  },
  {
   "cell_type": "code",
   "execution_count": null,
   "id": "4da00f6d",
   "metadata": {},
   "outputs": [],
   "source": [
    "#OLD_HDD"
   ]
  },
  {
   "cell_type": "code",
   "execution_count": 17,
   "id": "5eb428cc",
   "metadata": {},
   "outputs": [],
   "source": [
    "data_original_old_HDD=pd.read_csv(\"/Users/jeffworker/Documents/GitHub/Bootcamp/Ejercicios/w3-database-project/data/old_HDD.csv\",sep=',', encoding='latin-1')\n"
   ]
  },
  {
   "cell_type": "code",
   "execution_count": 112,
   "id": "10d60a3d",
   "metadata": {},
   "outputs": [
    {
     "data": {
      "text/html": [
       "<div>\n",
       "<style scoped>\n",
       "    .dataframe tbody tr th:only-of-type {\n",
       "        vertical-align: middle;\n",
       "    }\n",
       "\n",
       "    .dataframe tbody tr th {\n",
       "        vertical-align: top;\n",
       "    }\n",
       "\n",
       "    .dataframe thead th {\n",
       "        text-align: right;\n",
       "    }\n",
       "</style>\n",
       "<table border=\"1\" class=\"dataframe\">\n",
       "  <thead>\n",
       "    <tr style=\"text-align: right;\">\n",
       "      <th></th>\n",
       "      <th>first_name</th>\n",
       "      <th>last_name</th>\n",
       "      <th>title</th>\n",
       "      <th>release_year</th>\n",
       "      <th>category_id</th>\n",
       "    </tr>\n",
       "  </thead>\n",
       "  <tbody>\n",
       "    <tr>\n",
       "      <th>0</th>\n",
       "      <td>PENELOPE</td>\n",
       "      <td>GUINESS</td>\n",
       "      <td>ACADEMY DINOSAUR</td>\n",
       "      <td>2006</td>\n",
       "      <td>6</td>\n",
       "    </tr>\n",
       "    <tr>\n",
       "      <th>1</th>\n",
       "      <td>PENELOPE</td>\n",
       "      <td>GUINESS</td>\n",
       "      <td>ANACONDA CONFESSIONS</td>\n",
       "      <td>2006</td>\n",
       "      <td>2</td>\n",
       "    </tr>\n",
       "    <tr>\n",
       "      <th>2</th>\n",
       "      <td>PENELOPE</td>\n",
       "      <td>GUINESS</td>\n",
       "      <td>ANGELS LIFE</td>\n",
       "      <td>2006</td>\n",
       "      <td>13</td>\n",
       "    </tr>\n",
       "    <tr>\n",
       "      <th>3</th>\n",
       "      <td>PENELOPE</td>\n",
       "      <td>GUINESS</td>\n",
       "      <td>BULWORTH COMMANDMENTS</td>\n",
       "      <td>2006</td>\n",
       "      <td>10</td>\n",
       "    </tr>\n",
       "    <tr>\n",
       "      <th>4</th>\n",
       "      <td>PENELOPE</td>\n",
       "      <td>GUINESS</td>\n",
       "      <td>CHEAPER CLYDE</td>\n",
       "      <td>2006</td>\n",
       "      <td>14</td>\n",
       "    </tr>\n",
       "  </tbody>\n",
       "</table>\n",
       "</div>"
      ],
      "text/plain": [
       "  first_name last_name                  title  release_year  category_id\n",
       "0   PENELOPE   GUINESS       ACADEMY DINOSAUR          2006            6\n",
       "1   PENELOPE   GUINESS   ANACONDA CONFESSIONS          2006            2\n",
       "2   PENELOPE   GUINESS            ANGELS LIFE          2006           13\n",
       "3   PENELOPE   GUINESS  BULWORTH COMMANDMENTS          2006           10\n",
       "4   PENELOPE   GUINESS          CHEAPER CLYDE          2006           14"
      ]
     },
     "execution_count": 112,
     "metadata": {},
     "output_type": "execute_result"
    }
   ],
   "source": [
    "data_original_old_HDD.head()"
   ]
  },
  {
   "cell_type": "code",
   "execution_count": null,
   "id": "714d396b",
   "metadata": {},
   "outputs": [],
   "source": [
    "#RENTAL"
   ]
  },
  {
   "cell_type": "code",
   "execution_count": 19,
   "id": "361a7231",
   "metadata": {},
   "outputs": [],
   "source": [
    "data_original_rental=pd.read_csv(\"/Users/jeffworker/Documents/GitHub/Bootcamp/Ejercicios/w3-database-project/data/rental.csv\",sep=',', encoding='latin-1')\n"
   ]
  },
  {
   "cell_type": "code",
   "execution_count": 90,
   "id": "10fc82fb",
   "metadata": {},
   "outputs": [],
   "source": [
    "#check repetitive values last_update --> drop column\n",
    "check_dup_rental = data_original_rental['last_update'].value_counts() \n",
    "data_original_rental.drop(['last_update'], axis=1, inplace= True)"
   ]
  },
  {
   "cell_type": "code",
   "execution_count": null,
   "id": "ff2d3637",
   "metadata": {},
   "outputs": [],
   "source": []
  },
  {
   "cell_type": "code",
   "execution_count": null,
   "id": "72cabcfd",
   "metadata": {},
   "outputs": [],
   "source": [
    "#importar CSV"
   ]
  },
  {
   "cell_type": "code",
   "execution_count": null,
   "id": "f46368df",
   "metadata": {},
   "outputs": [],
   "source": [
    "#ACTORES IMPORTAR // importaré una nueva version en doc \"clean_2.0\""
   ]
  },
  {
   "cell_type": "code",
   "execution_count": null,
   "id": "12ec87ce",
   "metadata": {},
   "outputs": [],
   "source": [
    "data_original_actores=pd.read_csv(\"/Users/jeffworker/Documents/GitHub/Bootcamp/Ejercicios/w3-database-project/data/actor.csv\",sep=',', encoding='latin-1')\n"
   ]
  },
  {
   "cell_type": "code",
   "execution_count": 113,
   "id": "672c610e",
   "metadata": {},
   "outputs": [],
   "source": [
    "data_original_actores.to_csv('actors.csv', index = False)\n",
    "\n"
   ]
  },
  {
   "cell_type": "code",
   "execution_count": null,
   "id": "a3734d8d",
   "metadata": {},
   "outputs": [],
   "source": [
    "#CATEGORY IMPORTAR"
   ]
  },
  {
   "cell_type": "code",
   "execution_count": null,
   "id": "35b5246b",
   "metadata": {},
   "outputs": [],
   "source": [
    "data_original_category=pd.read_csv(\"/Users/jeffworker/Documents/GitHub/Bootcamp/Ejercicios/w3-database-project/data/category.csv\",sep=',', encoding='latin-1')\n"
   ]
  },
  {
   "cell_type": "code",
   "execution_count": 114,
   "id": "0c74fd47",
   "metadata": {},
   "outputs": [],
   "source": [
    "data_original_category.to_csv('categories.csv', index = False)\n"
   ]
  },
  {
   "cell_type": "code",
   "execution_count": 125,
   "id": "d4a1f82f",
   "metadata": {},
   "outputs": [
    {
     "data": {
      "text/html": [
       "<div>\n",
       "<style scoped>\n",
       "    .dataframe tbody tr th:only-of-type {\n",
       "        vertical-align: middle;\n",
       "    }\n",
       "\n",
       "    .dataframe tbody tr th {\n",
       "        vertical-align: top;\n",
       "    }\n",
       "\n",
       "    .dataframe thead th {\n",
       "        text-align: right;\n",
       "    }\n",
       "</style>\n",
       "<table border=\"1\" class=\"dataframe\">\n",
       "  <thead>\n",
       "    <tr style=\"text-align: right;\">\n",
       "      <th></th>\n",
       "      <th>category_id</th>\n",
       "      <th>genre</th>\n",
       "    </tr>\n",
       "  </thead>\n",
       "  <tbody>\n",
       "    <tr>\n",
       "      <th>0</th>\n",
       "      <td>1</td>\n",
       "      <td>Action</td>\n",
       "    </tr>\n",
       "    <tr>\n",
       "      <th>1</th>\n",
       "      <td>2</td>\n",
       "      <td>Animation</td>\n",
       "    </tr>\n",
       "    <tr>\n",
       "      <th>2</th>\n",
       "      <td>3</td>\n",
       "      <td>Children</td>\n",
       "    </tr>\n",
       "    <tr>\n",
       "      <th>3</th>\n",
       "      <td>4</td>\n",
       "      <td>Classics</td>\n",
       "    </tr>\n",
       "    <tr>\n",
       "      <th>4</th>\n",
       "      <td>5</td>\n",
       "      <td>Comedy</td>\n",
       "    </tr>\n",
       "    <tr>\n",
       "      <th>5</th>\n",
       "      <td>6</td>\n",
       "      <td>Documentary</td>\n",
       "    </tr>\n",
       "    <tr>\n",
       "      <th>6</th>\n",
       "      <td>7</td>\n",
       "      <td>Drama</td>\n",
       "    </tr>\n",
       "    <tr>\n",
       "      <th>7</th>\n",
       "      <td>8</td>\n",
       "      <td>Family</td>\n",
       "    </tr>\n",
       "    <tr>\n",
       "      <th>8</th>\n",
       "      <td>9</td>\n",
       "      <td>Foreign</td>\n",
       "    </tr>\n",
       "    <tr>\n",
       "      <th>9</th>\n",
       "      <td>10</td>\n",
       "      <td>Games</td>\n",
       "    </tr>\n",
       "    <tr>\n",
       "      <th>10</th>\n",
       "      <td>11</td>\n",
       "      <td>Horror</td>\n",
       "    </tr>\n",
       "    <tr>\n",
       "      <th>11</th>\n",
       "      <td>12</td>\n",
       "      <td>Music</td>\n",
       "    </tr>\n",
       "    <tr>\n",
       "      <th>12</th>\n",
       "      <td>13</td>\n",
       "      <td>New</td>\n",
       "    </tr>\n",
       "    <tr>\n",
       "      <th>13</th>\n",
       "      <td>14</td>\n",
       "      <td>Sci-Fi</td>\n",
       "    </tr>\n",
       "    <tr>\n",
       "      <th>14</th>\n",
       "      <td>15</td>\n",
       "      <td>Sports</td>\n",
       "    </tr>\n",
       "    <tr>\n",
       "      <th>15</th>\n",
       "      <td>16</td>\n",
       "      <td>Travel</td>\n",
       "    </tr>\n",
       "  </tbody>\n",
       "</table>\n",
       "</div>"
      ],
      "text/plain": [
       "    category_id        genre\n",
       "0             1       Action\n",
       "1             2    Animation\n",
       "2             3     Children\n",
       "3             4     Classics\n",
       "4             5       Comedy\n",
       "5             6  Documentary\n",
       "6             7        Drama\n",
       "7             8       Family\n",
       "8             9      Foreign\n",
       "9            10        Games\n",
       "10           11       Horror\n",
       "11           12        Music\n",
       "12           13          New\n",
       "13           14       Sci-Fi\n",
       "14           15       Sports\n",
       "15           16       Travel"
      ]
     },
     "execution_count": 125,
     "metadata": {},
     "output_type": "execute_result"
    }
   ],
   "source": [
    "data_original_category.head(16)\n"
   ]
  },
  {
   "cell_type": "code",
   "execution_count": null,
   "id": "037d64ec",
   "metadata": {},
   "outputs": [],
   "source": [
    "#FILM IMPORTAR"
   ]
  },
  {
   "cell_type": "code",
   "execution_count": null,
   "id": "26cf4597",
   "metadata": {},
   "outputs": [],
   "source": [
    "data_original_film=pd.read_csv(\"/Users/jeffworker/Documents/GitHub/Bootcamp/Ejercicios/w3-database-project/data/film.csv\",sep=',', encoding='latin-1')\n"
   ]
  },
  {
   "cell_type": "code",
   "execution_count": 115,
   "id": "f4eeb126",
   "metadata": {},
   "outputs": [],
   "source": [
    "data_original_film.to_csv('films.csv', index = False)\n"
   ]
  },
  {
   "cell_type": "code",
   "execution_count": null,
   "id": "a5221ab7",
   "metadata": {},
   "outputs": [],
   "source": []
  },
  {
   "cell_type": "code",
   "execution_count": null,
   "id": "aabca930",
   "metadata": {},
   "outputs": [],
   "source": [
    "#INVENTORY IMPORTAR"
   ]
  },
  {
   "cell_type": "code",
   "execution_count": null,
   "id": "8e036762",
   "metadata": {},
   "outputs": [],
   "source": [
    "data_original_inventory=pd.read_csv(\"/Users/jeffworker/Documents/GitHub/Bootcamp/Ejercicios/w3-database-project/data/inventory.csv\",sep=',', encoding='latin-1')\n"
   ]
  },
  {
   "cell_type": "code",
   "execution_count": 116,
   "id": "10aa4fce",
   "metadata": {},
   "outputs": [],
   "source": [
    "data_original_inventory.to_csv('inventory.csv', index = False)\n"
   ]
  },
  {
   "cell_type": "code",
   "execution_count": null,
   "id": "ae868224",
   "metadata": {},
   "outputs": [],
   "source": [
    "#LANGUAGE IMPORTAR"
   ]
  },
  {
   "cell_type": "code",
   "execution_count": null,
   "id": "bdeea811",
   "metadata": {},
   "outputs": [],
   "source": [
    "data_original_language=pd.read_csv(\"/Users/jeffworker/Documents/GitHub/Bootcamp/Ejercicios/w3-database-project/data/language.csv\",sep=',', encoding='latin-1')\n"
   ]
  },
  {
   "cell_type": "code",
   "execution_count": 117,
   "id": "c430c70a",
   "metadata": {},
   "outputs": [],
   "source": [
    "data_original_language.to_csv('languages.csv', index = False)\n"
   ]
  },
  {
   "cell_type": "code",
   "execution_count": null,
   "id": "28eba534",
   "metadata": {},
   "outputs": [],
   "source": [
    "#OLD_HDD IMPORTAR"
   ]
  },
  {
   "cell_type": "code",
   "execution_count": null,
   "id": "1516e903",
   "metadata": {},
   "outputs": [],
   "source": [
    "data_original_old_HDD=pd.read_csv(\"/Users/jeffworker/Documents/GitHub/Bootcamp/Ejercicios/w3-database-project/data/old_HDD.csv\",sep=',', encoding='latin-1')\n"
   ]
  },
  {
   "cell_type": "code",
   "execution_count": 118,
   "id": "5b765986",
   "metadata": {},
   "outputs": [],
   "source": [
    "data_original_old_HDD.to_csv('old_data.csv', index = False)\n"
   ]
  },
  {
   "cell_type": "code",
   "execution_count": null,
   "id": "81fc5aa2",
   "metadata": {},
   "outputs": [],
   "source": [
    "#RENTAL IMPORTAR"
   ]
  },
  {
   "cell_type": "code",
   "execution_count": null,
   "id": "5010feac",
   "metadata": {},
   "outputs": [],
   "source": [
    "data_original_rental=pd.read_csv(\"/Users/jeffworker/Documents/GitHub/Bootcamp/Ejercicios/w3-database-project/data/rental.csv\",sep=',', encoding='latin-1')\n"
   ]
  },
  {
   "cell_type": "code",
   "execution_count": 119,
   "id": "22862418",
   "metadata": {},
   "outputs": [],
   "source": [
    "data_original_rental.to_csv('rentals.csv', index = False)\n"
   ]
  },
  {
   "cell_type": "code",
   "execution_count": null,
   "id": "9ab11496",
   "metadata": {},
   "outputs": [],
   "source": []
  }
 ],
 "metadata": {
  "kernelspec": {
   "display_name": "Python 3 (ipykernel)",
   "language": "python",
   "name": "python3"
  },
  "language_info": {
   "codemirror_mode": {
    "name": "ipython",
    "version": 3
   },
   "file_extension": ".py",
   "mimetype": "text/x-python",
   "name": "python",
   "nbconvert_exporter": "python",
   "pygments_lexer": "ipython3",
   "version": "3.9.12"
  }
 },
 "nbformat": 4,
 "nbformat_minor": 5
}
