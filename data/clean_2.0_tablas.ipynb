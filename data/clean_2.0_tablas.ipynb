{
 "cells": [
  {
   "cell_type": "code",
   "execution_count": 2,
   "id": "50138f82",
   "metadata": {},
   "outputs": [],
   "source": [
    "import pandas as pd\n",
    "import numpy as np"
   ]
  },
  {
   "cell_type": "code",
   "execution_count": null,
   "id": "5abba03d",
   "metadata": {},
   "outputs": [],
   "source": [
    "#ACTORES (Nombre concatenado)"
   ]
  },
  {
   "cell_type": "code",
   "execution_count": 46,
   "id": "1120e0c0",
   "metadata": {},
   "outputs": [],
   "source": [
    "actores_bis=pd.read_csv(\"/Users/jeffworker/Documents/GitHub/Bootcamp/Ejercicios/w3-database-project/data/csv_clean_data/actors.csv\",sep=',', encoding='latin-1')\n"
   ]
  },
  {
   "cell_type": "code",
   "execution_count": 61,
   "id": "f0f6b086",
   "metadata": {},
   "outputs": [
    {
     "name": "stdout",
     "output_type": "stream",
     "text": [
      "    first_name     last_name  actor_id           Full Name\n",
      "0     PENELOPE       GUINESS         1     PENELOPEGUINESS\n",
      "1         NICK      WAHLBERG         2        NICKWAHLBERG\n",
      "2           ED         CHASE         3             EDCHASE\n",
      "3     JENNIFER         DAVIS         4       JENNIFERDAVIS\n",
      "4       JOHNNY  LOLLOBRIGIDA         5  JOHNNYLOLLOBRIGIDA\n",
      "..         ...           ...       ...                 ...\n",
      "195       BELA        WALKEN       196          BELAWALKEN\n",
      "196      REESE          WEST       197           REESEWEST\n",
      "197       MARY        KEITEL       198          MARYKEITEL\n",
      "198      JULIA       FAWCETT       199        JULIAFAWCETT\n",
      "199      THORA        TEMPLE       200         THORATEMPLE\n",
      "\n",
      "[200 rows x 4 columns]\n"
     ]
    }
   ],
   "source": [
    "\n",
    "df = pd.DataFrame(actores_bis,columns=['first_name','last_name','actor_id']) \n",
    "df[\"Full Name\"] = df[\"first_name\"] + df[\"last_name\"]\n",
    "print(df)"
   ]
  },
  {
   "cell_type": "code",
   "execution_count": 62,
   "id": "d0ec65a6",
   "metadata": {},
   "outputs": [],
   "source": [
    "df.drop(['first_name'], axis=1, inplace= True)"
   ]
  },
  {
   "cell_type": "code",
   "execution_count": 63,
   "id": "1da99383",
   "metadata": {},
   "outputs": [],
   "source": [
    "df.drop(['last_name'], axis=1, inplace= True)"
   ]
  },
  {
   "cell_type": "code",
   "execution_count": 64,
   "id": "fc3cafe3",
   "metadata": {},
   "outputs": [
    {
     "data": {
      "text/html": [
       "<div>\n",
       "<style scoped>\n",
       "    .dataframe tbody tr th:only-of-type {\n",
       "        vertical-align: middle;\n",
       "    }\n",
       "\n",
       "    .dataframe tbody tr th {\n",
       "        vertical-align: top;\n",
       "    }\n",
       "\n",
       "    .dataframe thead th {\n",
       "        text-align: right;\n",
       "    }\n",
       "</style>\n",
       "<table border=\"1\" class=\"dataframe\">\n",
       "  <thead>\n",
       "    <tr style=\"text-align: right;\">\n",
       "      <th></th>\n",
       "      <th>actor_id</th>\n",
       "      <th>Full Name</th>\n",
       "    </tr>\n",
       "  </thead>\n",
       "  <tbody>\n",
       "    <tr>\n",
       "      <th>0</th>\n",
       "      <td>1</td>\n",
       "      <td>PENELOPEGUINESS</td>\n",
       "    </tr>\n",
       "    <tr>\n",
       "      <th>1</th>\n",
       "      <td>2</td>\n",
       "      <td>NICKWAHLBERG</td>\n",
       "    </tr>\n",
       "    <tr>\n",
       "      <th>2</th>\n",
       "      <td>3</td>\n",
       "      <td>EDCHASE</td>\n",
       "    </tr>\n",
       "    <tr>\n",
       "      <th>3</th>\n",
       "      <td>4</td>\n",
       "      <td>JENNIFERDAVIS</td>\n",
       "    </tr>\n",
       "    <tr>\n",
       "      <th>4</th>\n",
       "      <td>5</td>\n",
       "      <td>JOHNNYLOLLOBRIGIDA</td>\n",
       "    </tr>\n",
       "  </tbody>\n",
       "</table>\n",
       "</div>"
      ],
      "text/plain": [
       "   actor_id           Full Name\n",
       "0         1     PENELOPEGUINESS\n",
       "1         2        NICKWAHLBERG\n",
       "2         3             EDCHASE\n",
       "3         4       JENNIFERDAVIS\n",
       "4         5  JOHNNYLOLLOBRIGIDA"
      ]
     },
     "execution_count": 64,
     "metadata": {},
     "output_type": "execute_result"
    }
   ],
   "source": [
    "df.head()"
   ]
  },
  {
   "cell_type": "code",
   "execution_count": null,
   "id": "3de21932",
   "metadata": {},
   "outputs": [],
   "source": [
    "#EXPORTAR NUEVO ACTOR"
   ]
  },
  {
   "cell_type": "code",
   "execution_count": 65,
   "id": "16e16f9f",
   "metadata": {},
   "outputs": [],
   "source": [
    "df.to_csv('new_actors.csv', index = False)\n"
   ]
  },
  {
   "cell_type": "code",
   "execution_count": null,
   "id": "005f05af",
   "metadata": {},
   "outputs": [],
   "source": []
  },
  {
   "cell_type": "code",
   "execution_count": 50,
   "id": "4b16304a",
   "metadata": {},
   "outputs": [],
   "source": [
    "#OLD_HDD (Nombre concatenado) + UNIR ACTOR ID"
   ]
  },
  {
   "cell_type": "code",
   "execution_count": 51,
   "id": "fd61cda9",
   "metadata": {},
   "outputs": [],
   "source": [
    "old_bis=pd.read_csv(\"/Users/jeffworker/Documents/GitHub/Bootcamp/Ejercicios/w3-database-project/data/csv_clean_data/old_data.csv\",sep=',', encoding='latin-1')\n"
   ]
  },
  {
   "cell_type": "code",
   "execution_count": 52,
   "id": "25a336e3",
   "metadata": {},
   "outputs": [
    {
     "data": {
      "text/html": [
       "<div>\n",
       "<style scoped>\n",
       "    .dataframe tbody tr th:only-of-type {\n",
       "        vertical-align: middle;\n",
       "    }\n",
       "\n",
       "    .dataframe tbody tr th {\n",
       "        vertical-align: top;\n",
       "    }\n",
       "\n",
       "    .dataframe thead th {\n",
       "        text-align: right;\n",
       "    }\n",
       "</style>\n",
       "<table border=\"1\" class=\"dataframe\">\n",
       "  <thead>\n",
       "    <tr style=\"text-align: right;\">\n",
       "      <th></th>\n",
       "      <th>first_name</th>\n",
       "      <th>last_name</th>\n",
       "      <th>title</th>\n",
       "      <th>release_year</th>\n",
       "      <th>category_id</th>\n",
       "    </tr>\n",
       "  </thead>\n",
       "  <tbody>\n",
       "    <tr>\n",
       "      <th>0</th>\n",
       "      <td>PENELOPE</td>\n",
       "      <td>GUINESS</td>\n",
       "      <td>ACADEMY DINOSAUR</td>\n",
       "      <td>2006</td>\n",
       "      <td>6</td>\n",
       "    </tr>\n",
       "    <tr>\n",
       "      <th>1</th>\n",
       "      <td>PENELOPE</td>\n",
       "      <td>GUINESS</td>\n",
       "      <td>ANACONDA CONFESSIONS</td>\n",
       "      <td>2006</td>\n",
       "      <td>2</td>\n",
       "    </tr>\n",
       "    <tr>\n",
       "      <th>2</th>\n",
       "      <td>PENELOPE</td>\n",
       "      <td>GUINESS</td>\n",
       "      <td>ANGELS LIFE</td>\n",
       "      <td>2006</td>\n",
       "      <td>13</td>\n",
       "    </tr>\n",
       "    <tr>\n",
       "      <th>3</th>\n",
       "      <td>PENELOPE</td>\n",
       "      <td>GUINESS</td>\n",
       "      <td>BULWORTH COMMANDMENTS</td>\n",
       "      <td>2006</td>\n",
       "      <td>10</td>\n",
       "    </tr>\n",
       "    <tr>\n",
       "      <th>4</th>\n",
       "      <td>PENELOPE</td>\n",
       "      <td>GUINESS</td>\n",
       "      <td>CHEAPER CLYDE</td>\n",
       "      <td>2006</td>\n",
       "      <td>14</td>\n",
       "    </tr>\n",
       "  </tbody>\n",
       "</table>\n",
       "</div>"
      ],
      "text/plain": [
       "  first_name last_name                  title  release_year  category_id\n",
       "0   PENELOPE   GUINESS       ACADEMY DINOSAUR          2006            6\n",
       "1   PENELOPE   GUINESS   ANACONDA CONFESSIONS          2006            2\n",
       "2   PENELOPE   GUINESS            ANGELS LIFE          2006           13\n",
       "3   PENELOPE   GUINESS  BULWORTH COMMANDMENTS          2006           10\n",
       "4   PENELOPE   GUINESS          CHEAPER CLYDE          2006           14"
      ]
     },
     "execution_count": 52,
     "metadata": {},
     "output_type": "execute_result"
    }
   ],
   "source": [
    "old_bis.head()"
   ]
  },
  {
   "cell_type": "code",
   "execution_count": 57,
   "id": "5a8c70be",
   "metadata": {},
   "outputs": [
    {
     "name": "stdout",
     "output_type": "stream",
     "text": [
      "    first_name last_name                  title  release_year  category_id  \\\n",
      "0     PENELOPE   GUINESS       ACADEMY DINOSAUR          2006            6   \n",
      "1     PENELOPE   GUINESS   ANACONDA CONFESSIONS          2006            2   \n",
      "2     PENELOPE   GUINESS            ANGELS LIFE          2006           13   \n",
      "3     PENELOPE   GUINESS  BULWORTH COMMANDMENTS          2006           10   \n",
      "4     PENELOPE   GUINESS          CHEAPER CLYDE          2006           14   \n",
      "..         ...       ...                    ...           ...          ...   \n",
      "995     GOLDIE     BRODY      COMANCHEROS ENEMY          2006            3   \n",
      "996     GOLDIE     BRODY        DAISY MENAGERIE          2006           14   \n",
      "997     GOLDIE     BRODY        DESERT POSEIDON          2006           11   \n",
      "998     GOLDIE     BRODY         EVERYONE CRAFT          2006            9   \n",
      "999     GOLDIE     BRODY         EXORCIST STING          2006           15   \n",
      "\n",
      "           Full Name  \n",
      "0    PENELOPEGUINESS  \n",
      "1    PENELOPEGUINESS  \n",
      "2    PENELOPEGUINESS  \n",
      "3    PENELOPEGUINESS  \n",
      "4    PENELOPEGUINESS  \n",
      "..               ...  \n",
      "995      GOLDIEBRODY  \n",
      "996      GOLDIEBRODY  \n",
      "997      GOLDIEBRODY  \n",
      "998      GOLDIEBRODY  \n",
      "999      GOLDIEBRODY  \n",
      "\n",
      "[1000 rows x 6 columns]\n"
     ]
    }
   ],
   "source": [
    "old_correct = pd.DataFrame(old_bis,columns=['first_name','last_name','title','release_year','category_id','Full Name']) \n",
    "old_correct[\"Full Name\"] = old_correct[\"first_name\"] + old_correct[\"last_name\"]\n",
    "print(old_correct)"
   ]
  },
  {
   "cell_type": "code",
   "execution_count": 58,
   "id": "4de1ab14",
   "metadata": {},
   "outputs": [],
   "source": [
    "old_correct.drop(['first_name'], axis=1, inplace= True)"
   ]
  },
  {
   "cell_type": "code",
   "execution_count": 59,
   "id": "3c993322",
   "metadata": {},
   "outputs": [],
   "source": [
    "old_correct.drop(['last_name'], axis=1, inplace= True)"
   ]
  },
  {
   "cell_type": "code",
   "execution_count": 60,
   "id": "f29b9efd",
   "metadata": {},
   "outputs": [
    {
     "data": {
      "text/html": [
       "<div>\n",
       "<style scoped>\n",
       "    .dataframe tbody tr th:only-of-type {\n",
       "        vertical-align: middle;\n",
       "    }\n",
       "\n",
       "    .dataframe tbody tr th {\n",
       "        vertical-align: top;\n",
       "    }\n",
       "\n",
       "    .dataframe thead th {\n",
       "        text-align: right;\n",
       "    }\n",
       "</style>\n",
       "<table border=\"1\" class=\"dataframe\">\n",
       "  <thead>\n",
       "    <tr style=\"text-align: right;\">\n",
       "      <th></th>\n",
       "      <th>title</th>\n",
       "      <th>release_year</th>\n",
       "      <th>category_id</th>\n",
       "      <th>Full Name</th>\n",
       "    </tr>\n",
       "  </thead>\n",
       "  <tbody>\n",
       "    <tr>\n",
       "      <th>0</th>\n",
       "      <td>ACADEMY DINOSAUR</td>\n",
       "      <td>2006</td>\n",
       "      <td>6</td>\n",
       "      <td>PENELOPEGUINESS</td>\n",
       "    </tr>\n",
       "    <tr>\n",
       "      <th>1</th>\n",
       "      <td>ANACONDA CONFESSIONS</td>\n",
       "      <td>2006</td>\n",
       "      <td>2</td>\n",
       "      <td>PENELOPEGUINESS</td>\n",
       "    </tr>\n",
       "    <tr>\n",
       "      <th>2</th>\n",
       "      <td>ANGELS LIFE</td>\n",
       "      <td>2006</td>\n",
       "      <td>13</td>\n",
       "      <td>PENELOPEGUINESS</td>\n",
       "    </tr>\n",
       "    <tr>\n",
       "      <th>3</th>\n",
       "      <td>BULWORTH COMMANDMENTS</td>\n",
       "      <td>2006</td>\n",
       "      <td>10</td>\n",
       "      <td>PENELOPEGUINESS</td>\n",
       "    </tr>\n",
       "    <tr>\n",
       "      <th>4</th>\n",
       "      <td>CHEAPER CLYDE</td>\n",
       "      <td>2006</td>\n",
       "      <td>14</td>\n",
       "      <td>PENELOPEGUINESS</td>\n",
       "    </tr>\n",
       "  </tbody>\n",
       "</table>\n",
       "</div>"
      ],
      "text/plain": [
       "                   title  release_year  category_id        Full Name\n",
       "0       ACADEMY DINOSAUR          2006            6  PENELOPEGUINESS\n",
       "1   ANACONDA CONFESSIONS          2006            2  PENELOPEGUINESS\n",
       "2            ANGELS LIFE          2006           13  PENELOPEGUINESS\n",
       "3  BULWORTH COMMANDMENTS          2006           10  PENELOPEGUINESS\n",
       "4          CHEAPER CLYDE          2006           14  PENELOPEGUINESS"
      ]
     },
     "execution_count": 60,
     "metadata": {},
     "output_type": "execute_result"
    }
   ],
   "source": [
    "old_correct.head()"
   ]
  },
  {
   "cell_type": "code",
   "execution_count": null,
   "id": "1a452946",
   "metadata": {},
   "outputs": [],
   "source": [
    "#EXPORTAR NUEVO OLD_HDD "
   ]
  },
  {
   "cell_type": "code",
   "execution_count": 66,
   "id": "62d78643",
   "metadata": {},
   "outputs": [],
   "source": [
    "old_correct.to_csv('new_old_data.csv', index = False)\n"
   ]
  },
  {
   "cell_type": "code",
   "execution_count": null,
   "id": "92296a71",
   "metadata": {},
   "outputs": [],
   "source": []
  },
  {
   "cell_type": "code",
   "execution_count": null,
   "id": "dba63980",
   "metadata": {},
   "outputs": [],
   "source": []
  }
 ],
 "metadata": {
  "kernelspec": {
   "display_name": "Python 3 (ipykernel)",
   "language": "python",
   "name": "python3"
  },
  "language_info": {
   "codemirror_mode": {
    "name": "ipython",
    "version": 3
   },
   "file_extension": ".py",
   "mimetype": "text/x-python",
   "name": "python",
   "nbconvert_exporter": "python",
   "pygments_lexer": "ipython3",
   "version": "3.9.12"
  }
 },
 "nbformat": 4,
 "nbformat_minor": 5
}
